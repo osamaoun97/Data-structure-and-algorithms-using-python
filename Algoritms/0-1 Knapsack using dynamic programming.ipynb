{
 "cells": [
  {
   "cell_type": "markdown",
   "id": "419b623c",
   "metadata": {},
   "source": [
    "## 1/0 Knapsack implementation using dynamic programming"
   ]
  },
  {
   "cell_type": "code",
   "execution_count": 1,
   "id": "a31d365b",
   "metadata": {
    "ExecuteTime": {
     "end_time": "2023-01-26T18:26:32.507697Z",
     "start_time": "2023-01-26T18:26:32.493929Z"
    }
   },
   "outputs": [],
   "source": [
    "def knapsack_non_frac(items=[('a1', 3, 7), ('a2', 1, 2), ('a3', 2, 4),('a4', 4, 5)],wt=6,n=4):\n",
    "    # create matrix with rows = number of items + 1 and columns = number of weight units + 1\n",
    "    mat = [[0 for i in range(wt + 1)] for j in range(n + 1)]\n",
    "    for i in range(n + 1):\n",
    "        for j in range(wt + 1):\n",
    "            # first row and column = 0\n",
    "            if i == 0 or j == 0:\n",
    "                mat[i][j] = 0\n",
    "            else:\n",
    "                i_w, i_v = items[i - 1][1], items[i - 1][2]\n",
    "                if j >= i_w:\n",
    "                    mat[i][j] = max(mat[i - 1][j - i_w] + i_v, mat[i - 1][j])\n",
    "                else:\n",
    "                    mat[i][j] = mat[i - 1][j]\n",
    "                    \n",
    "    # printing the matrix elements\n",
    "    for l in mat:\n",
    "        print(l)\n",
    "        res = mat[i][j]\n",
    "        \n",
    "    # maximum profit is the last element in the last row\n",
    "    print(f\"\\nMaximum profit = {res}\")\n",
    "    \n",
    "    # reverse calculating the elements taken in the knapsack\n",
    "    j = wt\n",
    "    knapsack = []\n",
    "    for i in range(n, -1, -1):\n",
    "        if res == 0:\n",
    "            break\n",
    "        else:\n",
    "            if res != mat[i - 1][j]:\n",
    "                i_w, i_v = items[i - 1][1], items[i - 1][2]\n",
    "                res -= i_v\n",
    "                j -= i_w\n",
    "                knapsack.append(items[i-1])\n",
    "            else:\n",
    "                continue\n",
    "                \n",
    "    print(f\"Knap sack items are{knapsack}\")"
   ]
  },
  {
   "cell_type": "markdown",
   "id": "8043434a",
   "metadata": {},
   "source": [
    "## testing the code"
   ]
  },
  {
   "cell_type": "code",
   "execution_count": 6,
   "id": "aaefa593",
   "metadata": {
    "ExecuteTime": {
     "end_time": "2023-01-26T18:27:24.501108Z",
     "start_time": "2023-01-26T18:27:24.496123Z"
    }
   },
   "outputs": [
    {
     "name": "stdout",
     "output_type": "stream",
     "text": [
      "[0, 0, 0, 0, 0, 0, 0]\n",
      "[0, 0, 0, 7, 7, 7, 7]\n",
      "[0, 2, 2, 7, 9, 9, 9]\n",
      "[0, 2, 4, 7, 9, 11, 13]\n",
      "[0, 2, 4, 7, 9, 11, 13]\n",
      "\n",
      "Maximum profit = 13\n",
      "Knap sack items are[('a3', 2, 4), ('a2', 1, 2), ('a1', 3, 7)]\n"
     ]
    }
   ],
   "source": [
    "# with default items (count = 4, max weight = 6)\n",
    "knapsack_non_frac(wt=6,n=4)"
   ]
  },
  {
   "cell_type": "code",
   "execution_count": 7,
   "id": "32bbfd41",
   "metadata": {
    "ExecuteTime": {
     "end_time": "2023-01-26T18:27:25.350620Z",
     "start_time": "2023-01-26T18:27:25.341610Z"
    }
   },
   "outputs": [
    {
     "name": "stdout",
     "output_type": "stream",
     "text": [
      "[0, 0, 0, 0, 0, 0, 0, 0, 0]\n",
      "[0, 0, 0, 7, 7, 7, 7, 7, 7]\n",
      "[0, 0, 0, 7, 7, 7, 7, 9, 9]\n",
      "[0, 0, 4, 7, 7, 11, 11, 11, 11]\n",
      "[0, 0, 5, 7, 9, 12, 12, 16, 16]\n",
      "\n",
      "Maximum profit = 16\n",
      "Knap sack items are[('a4', 2, 5), ('a3', 2, 4), ('a1', 3, 7)]\n"
     ]
    }
   ],
   "source": [
    "# with given items (count = 4, max weight = 8)\n",
    "knapsack_non_frac(items=[('a1', 3, 7), ('a2', 4, 2), ('a3', 2, 4),('a4', 2, 5)],wt=8,n=4)"
   ]
  }
 ],
 "metadata": {
  "kernelspec": {
   "display_name": "Python 3 (ipykernel)",
   "language": "python",
   "name": "python3"
  },
  "language_info": {
   "codemirror_mode": {
    "name": "ipython",
    "version": 3
   },
   "file_extension": ".py",
   "mimetype": "text/x-python",
   "name": "python",
   "nbconvert_exporter": "python",
   "pygments_lexer": "ipython3",
   "version": "3.9.13"
  }
 },
 "nbformat": 4,
 "nbformat_minor": 5
}
