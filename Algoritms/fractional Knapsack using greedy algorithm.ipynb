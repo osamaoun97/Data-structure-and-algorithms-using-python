{
 "cells": [
  {
   "cell_type": "markdown",
   "id": "f2380834",
   "metadata": {
    "ExecuteTime": {
     "end_time": "2023-01-26T18:15:10.468065Z",
     "start_time": "2023-01-26T18:15:10.454744Z"
    }
   },
   "source": [
    "## Code implementation"
   ]
  },
  {
   "cell_type": "code",
   "execution_count": 7,
   "id": "fccd2f51",
   "metadata": {
    "ExecuteTime": {
     "end_time": "2023-01-26T18:19:40.276649Z",
     "start_time": "2023-01-26T18:19:40.248637Z"
    }
   },
   "outputs": [],
   "source": [
    "# knapsack function\n",
    "def knapsack(def_items=[('i1', 5, 50), ('i2', 10, 60), ('i3', 20, 140)],\n",
    "             def_wt=0):\n",
    "    print(\n",
    "        \"Welcome to the program for solving knapsack problem using greedy algorithm\"\n",
    "    )\n",
    "    inp = int(\n",
    "        input(\n",
    "            \"Enter your choice number: \\n1- Enter items manually\\n2- Use default items\\n\"\n",
    "        ))\n",
    "    # manual input\n",
    "    if inp == 1:\n",
    "        inp2 = int(input(\"Enter number of items: \"))\n",
    "        items = [() for i in range(inp2)]\n",
    "        for i in range(inp2):\n",
    "            items[i] += (input(f\"Enter item {i+1} name: \"), )\n",
    "            items[i] += (int(input(f\"Enter item {i+1} weight: \")), )\n",
    "            items[i] += (int(input(f\"Enter item {i+1} value: \")), )\n",
    "        print(f\"Default items are: {items}\")\n",
    "    # default items\n",
    "    elif inp == 2:\n",
    "        items = def_items\n",
    "        print(f\"your items are: {items}\")\n",
    "        \n",
    "    # input max wt if not given\n",
    "    if def_wt == 0:\n",
    "        remain = float(input(\"Enter your knapscak max weight: \"))\n",
    "    else:\n",
    "        remain = def_wt\n",
    "\n",
    "    #input selection criteria\n",
    "    inp3 = int(\n",
    "        input(\"\"\"Enter your selection criteria: \n",
    "            \\n1- minimum weight\\n2- maximum weight\\n3- maximum value\\n4- maximum value/weight\\n\"\"\"\n",
    "              ))\n",
    "    \n",
    "    # inplace sort items by criteria\n",
    "    if inp3 == 1:\n",
    "        items.sort(key=lambda tup: tup[1])\n",
    "    elif inp3 == 2:\n",
    "        items.sort(key=lambda tup: tup[1], reverse=True)\n",
    "    elif inp3 == 3:\n",
    "        items.sort(key=lambda tup: tup[2], reverse=True)\n",
    "    elif inp3 == 4:\n",
    "        items.sort(key=lambda tup: tup[2] / tup[1], reverse=True)\n",
    "\n",
    "    # Is repetition of items taken allowed or not?\n",
    "    inp4 = int(input(\"Is repetition allowed or not? (1,0): \"))\n",
    "    \n",
    "    # repetition allowed, we take n items of the highest item in criteria\n",
    "    if inp4 == 1:\n",
    "        best_item = items[0]\n",
    "        n_items = remain / best_item[1]\n",
    "        max_profit = n_items * best_item[2]\n",
    "        print(\n",
    "            f\"Max profit is {max_profit}\\nKnap sack contains {n_items} of the item {best_item[0]}\"\n",
    "        )\n",
    "\n",
    "    # repetition not allowed\n",
    "    elif inp4 == 0:\n",
    "        knapsack = []\n",
    "        max_profit = 0\n",
    "        for i in items:\n",
    "            if remain != 0:\n",
    "                if i[1] <= remain:\n",
    "                    knapsack.append((i[0], \"whole\"))\n",
    "                    max_profit += i[2]\n",
    "                    remain -= i[1]\n",
    "                else:\n",
    "                    knapsack.append((i[0], f\"{remain/i[1]} of it\"))\n",
    "                    max_profit += i[2] * (remain / i[1])\n",
    "                    remain = 0\n",
    "        print(f\"Max profit is {max_profit}\\nKnap sack items are{knapsack}\")"
   ]
  },
  {
   "cell_type": "markdown",
   "id": "a0423038",
   "metadata": {},
   "source": [
    "## Knapsack with default items, maximum value/weight Criteria and no repetation."
   ]
  },
  {
   "cell_type": "code",
   "execution_count": 4,
   "id": "548a2e13",
   "metadata": {
    "ExecuteTime": {
     "end_time": "2023-01-26T18:17:24.675999Z",
     "start_time": "2023-01-26T18:16:09.183907Z"
    },
    "scrolled": true
   },
   "outputs": [
    {
     "name": "stdout",
     "output_type": "stream",
     "text": [
      "Welcome to the program for solving knapsack problem using greedy algorithm\n",
      "Enter your choice number: \n",
      "1- Enter items manually\n",
      "2- Use default items\n",
      "2\n",
      "Default items are: [('i1', 5, 50), ('i2', 10, 60), ('i3', 20, 140)]\n",
      "Enter your knapscak max weight: 15\n",
      "Enter your selection criteria: \n",
      "            \n",
      "1- minimum weight\n",
      "2- maximum weight\n",
      "3- maximum value\n",
      "4- maximum value/weight\n",
      "4\n",
      "Is repetition allowed or not? (1,0): 0\n",
      "Max profit is 120.0\n",
      "Knap sack items are[('i1', 'whole'), ('i3', '0.5 of it')]\n"
     ]
    }
   ],
   "source": [
    "knapsack()"
   ]
  },
  {
   "cell_type": "markdown",
   "id": "e1a22020",
   "metadata": {
    "ExecuteTime": {
     "end_time": "2023-01-26T18:17:56.449444Z",
     "start_time": "2023-01-26T18:17:56.434906Z"
    }
   },
   "source": [
    "## Knapsack with given items, maximum value Criteria and no repetation."
   ]
  },
  {
   "cell_type": "code",
   "execution_count": 6,
   "id": "04174f91",
   "metadata": {
    "ExecuteTime": {
     "end_time": "2023-01-26T18:19:40.248637Z",
     "start_time": "2023-01-26T18:17:56.914209Z"
    },
    "scrolled": false
   },
   "outputs": [
    {
     "name": "stdout",
     "output_type": "stream",
     "text": [
      "Welcome to the program for solving knapsack problem using greedy algorithm\n",
      "Enter your choice number: \n",
      "1- Enter items manually\n",
      "2- Use default items\n",
      "1\n",
      "Enter number of items: 4\n",
      "Enter item 1 name: Watch\n",
      "Enter item 1 weight: 5\n",
      "Enter item 1 value: 20\n",
      "Enter item 2 name: mobile\n",
      "Enter item 2 weight: 10\n",
      "Enter item 2 value: 100\n",
      "Enter item 3 name: note\n",
      "Enter item 3 weight: 10\n",
      "Enter item 3 value: 10\n",
      "Enter item 4 name: laptop\n",
      "Enter item 4 weight: 20\n",
      "Enter item 4 value: 300\n",
      "Default items are: [('Watch', 5, 20), ('mobile', 10, 100), ('note', 10, 10), ('laptop', 20, 300)]\n",
      "Enter your knapscak max weight: 40\n",
      "Enter your selection criteria: \n",
      "            \n",
      "1- minimum weight\n",
      "2- maximum weight\n",
      "3- maximum value\n",
      "4- maximum value/weight\n",
      "3\n",
      "Is repetition allowed or not? (1,0): 0\n",
      "Max profit is 425.0\n",
      "Knap sack items are[('laptop', 'whole'), ('mobile', 'whole'), ('Watch', 'whole'), ('note', '0.5 of it')]\n"
     ]
    }
   ],
   "source": [
    "knapsack()"
   ]
  },
  {
   "cell_type": "markdown",
   "id": "dedaddeb",
   "metadata": {},
   "source": [
    "## Knapsack with default items, maximum weight Criteria and repetation allowed."
   ]
  },
  {
   "cell_type": "code",
   "execution_count": 8,
   "id": "22235cb8",
   "metadata": {
    "ExecuteTime": {
     "end_time": "2023-01-26T18:21:22.129578Z",
     "start_time": "2023-01-26T18:20:46.841086Z"
    }
   },
   "outputs": [
    {
     "name": "stdout",
     "output_type": "stream",
     "text": [
      "Welcome to the program for solving knapsack problem using greedy algorithm\n",
      "Enter your choice number: \n",
      "1- Enter items manually\n",
      "2- Use default items\n",
      "2\n",
      "your items are: [('i1', 5, 50), ('i2', 10, 60), ('i3', 20, 140)]\n",
      "Enter your knapscak max weight: 25\n",
      "Enter your selection criteria: \n",
      "            \n",
      "1- minimum weight\n",
      "2- maximum weight\n",
      "3- maximum value\n",
      "4- maximum value/weight\n",
      "2\n",
      "Is repetition allowed or not? (1,0): 1\n",
      "Max profit is 175.0\n",
      "Knap sack contains 1.25 of the item i3\n"
     ]
    }
   ],
   "source": [
    "knapsack()"
   ]
  }
 ],
 "metadata": {
  "kernelspec": {
   "display_name": "Python 3 (ipykernel)",
   "language": "python",
   "name": "python3"
  },
  "language_info": {
   "codemirror_mode": {
    "name": "ipython",
    "version": 3
   },
   "file_extension": ".py",
   "mimetype": "text/x-python",
   "name": "python",
   "nbconvert_exporter": "python",
   "pygments_lexer": "ipython3",
   "version": "3.9.13"
  }
 },
 "nbformat": 4,
 "nbformat_minor": 5
}
