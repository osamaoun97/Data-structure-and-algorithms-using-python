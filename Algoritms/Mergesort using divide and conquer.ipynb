{
 "cells": [
  {
   "cell_type": "markdown",
   "id": "f105d4c1",
   "metadata": {},
   "source": [
    "## Merge sort function"
   ]
  },
  {
   "cell_type": "code",
   "execution_count": 2,
   "id": "c969768c",
   "metadata": {
    "ExecuteTime": {
     "end_time": "2023-01-26T18:09:48.810021Z",
     "start_time": "2023-01-26T18:09:48.797484Z"
    }
   },
   "outputs": [],
   "source": [
    "# call merge sort recursively on halfs of the array\n",
    "def Mergesort(arr, start, end):\n",
    "    # if it's not one element, divide it\n",
    "    if start < end:\n",
    "        mid = (start + end) // 2\n",
    "        Mergesort(arr, start, mid)\n",
    "        Mergesort(arr, mid+1, end)\n",
    "        Merge(arr, start, mid, end)\n",
    "\n",
    "# inplace sorting the returned array\n",
    "def Merge(arr, start ,mid ,end):\n",
    "    temp = []\n",
    "    p1 = start\n",
    "    p2 = mid + 1\n",
    "    while p1 <= mid and p2 <= end:\n",
    "        if arr[p1] <= arr[p2]:\n",
    "            temp.append(arr[p1])\n",
    "            p1 +=1\n",
    "        else:\n",
    "            temp.append(arr[p2])\n",
    "            p2 +=1\n",
    "    while p1 <= mid:\n",
    "        temp.append(arr[p1])\n",
    "        p1 += 1\n",
    "    while p2 <= end:\n",
    "        temp.append(arr[p2])\n",
    "        p2 += 1\n",
    "    \n",
    "    # replace values in the array with the sorted ones\n",
    "    I = start\n",
    "    for i in temp:\n",
    "        arr[I] = i\n",
    "        I += 1"
   ]
  },
  {
   "cell_type": "markdown",
   "id": "daaaee24",
   "metadata": {
    "ExecuteTime": {
     "end_time": "2023-01-26T18:09:49.131013Z",
     "start_time": "2023-01-26T18:09:49.117051Z"
    }
   },
   "source": [
    "## testing the code"
   ]
  },
  {
   "cell_type": "code",
   "execution_count": 4,
   "id": "bfa98d54",
   "metadata": {
    "ExecuteTime": {
     "end_time": "2023-01-26T18:09:49.512837Z",
     "start_time": "2023-01-26T18:09:49.499112Z"
    }
   },
   "outputs": [
    {
     "name": "stdout",
     "output_type": "stream",
     "text": [
      "[1, 2, 3, 4, 5]\n"
     ]
    }
   ],
   "source": [
    "myarray = [5,4,3,2,1]\n",
    "Mergesort(myarray, 0, 4)\n",
    "print(myarray)"
   ]
  },
  {
   "cell_type": "code",
   "execution_count": 5,
   "id": "92a3f81c",
   "metadata": {
    "ExecuteTime": {
     "end_time": "2023-01-26T18:09:50.918742Z",
     "start_time": "2023-01-26T18:09:50.906778Z"
    }
   },
   "outputs": [
    {
     "name": "stdout",
     "output_type": "stream",
     "text": [
      "[0, 1, 1, 2, 2, 3, 4, 5, 22, 44, 55]\n"
     ]
    }
   ],
   "source": [
    "myarray2 = [0,5,4,3,2,1,55,44,22,1,2]\n",
    "Mergesort(myarray2, 0, 10)\n",
    "print(myarray2)"
   ]
  },
  {
   "cell_type": "code",
   "execution_count": 6,
   "id": "c53e1a3f",
   "metadata": {
    "ExecuteTime": {
     "end_time": "2023-01-26T18:09:55.571390Z",
     "start_time": "2023-01-26T18:09:55.566372Z"
    }
   },
   "outputs": [
    {
     "name": "stdout",
     "output_type": "stream",
     "text": [
      "[1, 2]\n"
     ]
    }
   ],
   "source": [
    "myarray3 = [2,1]\n",
    "Mergesort(myarray3, 0, 1)\n",
    "print(myarray3)"
   ]
  }
 ],
 "metadata": {
  "kernelspec": {
   "display_name": "Python 3 (ipykernel)",
   "language": "python",
   "name": "python3"
  },
  "language_info": {
   "codemirror_mode": {
    "name": "ipython",
    "version": 3
   },
   "file_extension": ".py",
   "mimetype": "text/x-python",
   "name": "python",
   "nbconvert_exporter": "python",
   "pygments_lexer": "ipython3",
   "version": "3.9.13"
  }
 },
 "nbformat": 4,
 "nbformat_minor": 5
}
