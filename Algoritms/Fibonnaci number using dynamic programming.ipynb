{
 "cells": [
  {
   "cell_type": "markdown",
   "id": "533ddc4d",
   "metadata": {
    "ExecuteTime": {
     "end_time": "2023-01-23T14:27:15.908120Z",
     "start_time": "2023-01-23T14:27:15.897151Z"
    }
   },
   "source": [
    "## Import time module"
   ]
  },
  {
   "cell_type": "code",
   "execution_count": 4,
   "id": "6d0d46b5",
   "metadata": {
    "ExecuteTime": {
     "end_time": "2023-01-26T18:13:57.295634Z",
     "start_time": "2023-01-26T18:13:57.289731Z"
    }
   },
   "outputs": [],
   "source": [
    "from time import time"
   ]
  },
  {
   "cell_type": "markdown",
   "id": "d5e2452a",
   "metadata": {},
   "source": [
    "## Naive fibonacci implementation "
   ]
  },
  {
   "cell_type": "code",
   "execution_count": 5,
   "id": "6d0fb79b",
   "metadata": {
    "ExecuteTime": {
     "end_time": "2023-01-26T18:13:57.721391Z",
     "start_time": "2023-01-26T18:13:57.713840Z"
    }
   },
   "outputs": [],
   "source": [
    "def Naive_fib(n):\n",
    "    if n<= 1 :\n",
    "        return n\n",
    "    return Naive_fib(n-1) + Naive_fib(n-2)"
   ]
  },
  {
   "cell_type": "markdown",
   "id": "4a20d7ff",
   "metadata": {},
   "source": [
    "## Dynamic programming implementation"
   ]
  },
  {
   "cell_type": "code",
   "execution_count": 6,
   "id": "eefc4b06",
   "metadata": {
    "ExecuteTime": {
     "end_time": "2023-01-26T18:13:58.065606Z",
     "start_time": "2023-01-26T18:13:58.056538Z"
    }
   },
   "outputs": [],
   "source": [
    "def fib_DP(n):\n",
    "    if n<= 1:\n",
    "        return n\n",
    "    old, new = 0,1\n",
    "    for i in range(2,n+1):\n",
    "        old, new = new, old+new\n",
    "    return new"
   ]
  },
  {
   "cell_type": "markdown",
   "id": "002cbf48",
   "metadata": {
    "ExecuteTime": {
     "end_time": "2023-01-26T18:13:14.493122Z",
     "start_time": "2023-01-26T18:13:14.481135Z"
    }
   },
   "source": [
    "## Testing Naive fibonacci implementation"
   ]
  },
  {
   "cell_type": "code",
   "execution_count": 7,
   "id": "df7be659",
   "metadata": {
    "ExecuteTime": {
     "end_time": "2023-01-26T18:14:01.658709Z",
     "start_time": "2023-01-26T18:13:58.759001Z"
    }
   },
   "outputs": [
    {
     "name": "stdout",
     "output_type": "stream",
     "text": [
      "naive fib = 9227465\n",
      "Time taken in milliseconds = 2880\n"
     ]
    }
   ],
   "source": [
    "start = time()\n",
    "print(f\"naive fib = {Naive_fib(35)}\")\n",
    "end = time()\n",
    "c = (end - start) * 1000\n",
    "print(f\"Time taken in milliseconds = {int(c)}\")"
   ]
  },
  {
   "cell_type": "markdown",
   "id": "3c2ad5d1",
   "metadata": {},
   "source": [
    "## Testing Dynamic programming implementation"
   ]
  },
  {
   "cell_type": "code",
   "execution_count": 8,
   "id": "77211347",
   "metadata": {
    "ExecuteTime": {
     "end_time": "2023-01-26T18:14:01.667095Z",
     "start_time": "2023-01-26T18:14:01.660458Z"
    }
   },
   "outputs": [
    {
     "name": "stdout",
     "output_type": "stream",
     "text": [
      "naive fib = 9227465\n",
      "Time taken in milliseconds = 0\n"
     ]
    }
   ],
   "source": [
    "start = time()\n",
    "print(f\"naive fib = {fib_DP(35)}\")\n",
    "end = time()\n",
    "c = (end - start) * 1000\n",
    "print(f\"Time taken in milliseconds = {int(c)}\")"
   ]
  }
 ],
 "metadata": {
  "kernelspec": {
   "display_name": "Python 3 (ipykernel)",
   "language": "python",
   "name": "python3"
  },
  "language_info": {
   "codemirror_mode": {
    "name": "ipython",
    "version": 3
   },
   "file_extension": ".py",
   "mimetype": "text/x-python",
   "name": "python",
   "nbconvert_exporter": "python",
   "pygments_lexer": "ipython3",
   "version": "3.9.13"
  }
 },
 "nbformat": 4,
 "nbformat_minor": 5
}
