{
 "cells": [
  {
   "cell_type": "markdown",
   "id": "aa8cfd03",
   "metadata": {
    "ExecuteTime": {
     "end_time": "2023-01-26T17:43:56.875815Z",
     "start_time": "2023-01-26T17:43:56.861855Z"
    }
   },
   "source": [
    "## Class to create and print nodes"
   ]
  },
  {
   "cell_type": "code",
   "execution_count": 4,
   "id": "e7c92c19",
   "metadata": {
    "ExecuteTime": {
     "end_time": "2023-01-26T17:43:57.166780Z",
     "start_time": "2023-01-26T17:43:57.144808Z"
    }
   },
   "outputs": [],
   "source": [
    "class node:\n",
    "    def __init__(self, Data):\n",
    "        self.data = Data\n",
    "        self.next = None\n",
    "        \n",
    "    def print(self):\n",
    "        print(f\"Node = {self.data}\")"
   ]
  },
  {
   "cell_type": "markdown",
   "id": "949bea7d",
   "metadata": {
    "ExecuteTime": {
     "end_time": "2023-01-26T17:43:57.465430Z",
     "start_time": "2023-01-26T17:43:57.449766Z"
    }
   },
   "source": [
    "# Queue class"
   ]
  },
  {
   "cell_type": "code",
   "execution_count": 6,
   "id": "a00ce873",
   "metadata": {
    "ExecuteTime": {
     "end_time": "2023-01-26T17:43:57.747481Z",
     "start_time": "2023-01-26T17:43:57.732976Z"
    }
   },
   "outputs": [],
   "source": [
    "class Queue:\n",
    "    def __init__(self):\n",
    "        self.head = None\n",
    "        self.tail = None\n",
    "        \n",
    "    # print all nodes in the Queue\n",
    "    def printall(self):\n",
    "        print(\"-\"*20)\n",
    "        I = 0\n",
    "        cur = self.head\n",
    "        if self.head != None:\n",
    "            print(\"Nodes from highest to lowest piriority\")\n",
    "            while cur != None:\n",
    "                print(f\"Node at loc {I} = {cur.data}\")\n",
    "                cur = cur.next\n",
    "                I = I + 1\n",
    "        else:\n",
    "            print(\"The Queue is empty\") \n",
    "            \n",
    "    # add element\n",
    "    def EnQueue(self, Data):\n",
    "        nd = node(Data)\n",
    "        # if Queue is empty\n",
    "        if self.head == None:\n",
    "            self.head = nd\n",
    "            self.tail = nd\n",
    "        # if Queue is not empty\n",
    "        else:\n",
    "            self.tail.next = nd\n",
    "            self.tail = nd\n",
    "    \n",
    "    # Remove an element\n",
    "    def DeQueue(self):\n",
    "        nd = None\n",
    "        # if Queue is not empty\n",
    "        if self.head != None:\n",
    "            nd = self.head\n",
    "            self.head = self.head.next\n",
    "            if self.head == None:\n",
    "                self.tail = None\n",
    "        if nd == None:\n",
    "            print(\"Can't DeQueue from an empty stack\")\n",
    "        else:\n",
    "            print(f\"DeQueued item = {nd.data}\")\n",
    "        return nd"
   ]
  },
  {
   "cell_type": "markdown",
   "id": "ef65e5f1",
   "metadata": {
    "ExecuteTime": {
     "end_time": "2023-01-26T17:43:58.338226Z",
     "start_time": "2023-01-26T17:43:58.323239Z"
    }
   },
   "source": [
    "## testing the code"
   ]
  },
  {
   "cell_type": "code",
   "execution_count": 8,
   "id": "56738b96",
   "metadata": {
    "ExecuteTime": {
     "end_time": "2023-01-26T17:43:58.665432Z",
     "start_time": "2023-01-26T17:43:58.651492Z"
    }
   },
   "outputs": [
    {
     "name": "stdout",
     "output_type": "stream",
     "text": [
      "--------------------\n",
      "The Queue is empty\n"
     ]
    }
   ],
   "source": [
    "myqueue = Queue()\n",
    "myqueue.printall()"
   ]
  },
  {
   "cell_type": "code",
   "execution_count": 9,
   "id": "19ee5fe6",
   "metadata": {
    "ExecuteTime": {
     "end_time": "2023-01-26T17:43:59.047733Z",
     "start_time": "2023-01-26T17:43:59.031682Z"
    }
   },
   "outputs": [
    {
     "name": "stdout",
     "output_type": "stream",
     "text": [
      "Can't DeQueue from an empty stack\n"
     ]
    }
   ],
   "source": [
    "myqueue.DeQueue()"
   ]
  },
  {
   "cell_type": "code",
   "execution_count": 10,
   "id": "843aca5a",
   "metadata": {
    "ExecuteTime": {
     "end_time": "2023-01-26T17:43:59.414336Z",
     "start_time": "2023-01-26T17:43:59.405366Z"
    }
   },
   "outputs": [
    {
     "name": "stdout",
     "output_type": "stream",
     "text": [
      "--------------------\n",
      "Nodes from highest to lowest piriority\n",
      "Node at loc 0 = 2\n"
     ]
    }
   ],
   "source": [
    "myqueue.EnQueue(2)\n",
    "myqueue.printall()"
   ]
  },
  {
   "cell_type": "code",
   "execution_count": 11,
   "id": "3bd9cfdd",
   "metadata": {
    "ExecuteTime": {
     "end_time": "2023-01-26T17:43:59.681368Z",
     "start_time": "2023-01-26T17:43:59.667083Z"
    }
   },
   "outputs": [
    {
     "name": "stdout",
     "output_type": "stream",
     "text": [
      "--------------------\n",
      "Nodes from highest to lowest piriority\n",
      "Node at loc 0 = 2\n",
      "Node at loc 1 = 5\n"
     ]
    }
   ],
   "source": [
    "myqueue.EnQueue(5)\n",
    "myqueue.printall()"
   ]
  },
  {
   "cell_type": "code",
   "execution_count": 12,
   "id": "e3ec275d",
   "metadata": {
    "ExecuteTime": {
     "end_time": "2023-01-26T17:44:00.016282Z",
     "start_time": "2023-01-26T17:44:00.001636Z"
    }
   },
   "outputs": [
    {
     "name": "stdout",
     "output_type": "stream",
     "text": [
      "--------------------\n",
      "Nodes from highest to lowest piriority\n",
      "Node at loc 0 = 2\n",
      "Node at loc 1 = 5\n",
      "Node at loc 2 = 7\n"
     ]
    }
   ],
   "source": [
    "myqueue.EnQueue(7)\n",
    "myqueue.printall()"
   ]
  },
  {
   "cell_type": "code",
   "execution_count": 13,
   "id": "3f9409dc",
   "metadata": {
    "ExecuteTime": {
     "end_time": "2023-01-26T17:44:00.242541Z",
     "start_time": "2023-01-26T17:44:00.217972Z"
    }
   },
   "outputs": [
    {
     "name": "stdout",
     "output_type": "stream",
     "text": [
      "DeQueued item = 2\n",
      "--------------------\n",
      "Nodes from highest to lowest piriority\n",
      "Node at loc 0 = 5\n",
      "Node at loc 1 = 7\n"
     ]
    }
   ],
   "source": [
    "myqueue.DeQueue()\n",
    "myqueue.printall()"
   ]
  },
  {
   "cell_type": "code",
   "execution_count": 14,
   "id": "a8b6bfa2",
   "metadata": {
    "ExecuteTime": {
     "end_time": "2023-01-26T17:44:00.465150Z",
     "start_time": "2023-01-26T17:44:00.457170Z"
    }
   },
   "outputs": [
    {
     "name": "stdout",
     "output_type": "stream",
     "text": [
      "DeQueued item = 5\n",
      "--------------------\n",
      "Nodes from highest to lowest piriority\n",
      "Node at loc 0 = 7\n"
     ]
    }
   ],
   "source": [
    "myqueue.DeQueue()\n",
    "myqueue.printall()"
   ]
  },
  {
   "cell_type": "code",
   "execution_count": 15,
   "id": "c2441afb",
   "metadata": {
    "ExecuteTime": {
     "end_time": "2023-01-26T17:44:00.680333Z",
     "start_time": "2023-01-26T17:44:00.669361Z"
    }
   },
   "outputs": [
    {
     "name": "stdout",
     "output_type": "stream",
     "text": [
      "DeQueued item = 7\n",
      "--------------------\n",
      "The Queue is empty\n"
     ]
    }
   ],
   "source": [
    "myqueue.DeQueue()\n",
    "myqueue.printall()"
   ]
  },
  {
   "cell_type": "code",
   "execution_count": 16,
   "id": "cd7a8d77",
   "metadata": {
    "ExecuteTime": {
     "end_time": "2023-01-26T17:44:00.897471Z",
     "start_time": "2023-01-26T17:44:00.873052Z"
    }
   },
   "outputs": [
    {
     "name": "stdout",
     "output_type": "stream",
     "text": [
      "Can't DeQueue from an empty stack\n",
      "--------------------\n",
      "The Queue is empty\n"
     ]
    }
   ],
   "source": [
    "myqueue.DeQueue()\n",
    "myqueue.printall()"
   ]
  }
 ],
 "metadata": {
  "kernelspec": {
   "display_name": "Python 3 (ipykernel)",
   "language": "python",
   "name": "python3"
  },
  "language_info": {
   "codemirror_mode": {
    "name": "ipython",
    "version": 3
   },
   "file_extension": ".py",
   "mimetype": "text/x-python",
   "name": "python",
   "nbconvert_exporter": "python",
   "pygments_lexer": "ipython3",
   "version": "3.9.13"
  }
 },
 "nbformat": 4,
 "nbformat_minor": 5
}
