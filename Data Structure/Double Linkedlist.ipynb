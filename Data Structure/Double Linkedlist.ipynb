{
 "cells": [
  {
   "cell_type": "markdown",
   "id": "1e84a729",
   "metadata": {
    "ExecuteTime": {
     "end_time": "2023-01-26T17:42:01.860638Z",
     "start_time": "2023-01-26T17:42:01.849668Z"
    }
   },
   "source": [
    "## Class to create and print nodes"
   ]
  },
  {
   "cell_type": "code",
   "execution_count": 8,
   "id": "a145d3bc",
   "metadata": {
    "ExecuteTime": {
     "end_time": "2023-01-26T17:42:02.197956Z",
     "start_time": "2023-01-26T17:42:02.182359Z"
    }
   },
   "outputs": [],
   "source": [
    "class node:\n",
    "    def __init__(self, Data):\n",
    "        self.data = Data\n",
    "        self.next = None\n",
    "        self.prev = None\n",
    "\n",
    "    def __repr__(self):\n",
    "        return f\"Node = {self.data}\""
   ]
  },
  {
   "cell_type": "markdown",
   "id": "a7226c27",
   "metadata": {
    "ExecuteTime": {
     "end_time": "2023-01-26T17:42:02.494818Z",
     "start_time": "2023-01-26T17:42:02.468718Z"
    }
   },
   "source": [
    "# double linked list class"
   ]
  },
  {
   "cell_type": "code",
   "execution_count": 10,
   "id": "82004403",
   "metadata": {
    "ExecuteTime": {
     "end_time": "2023-01-26T17:42:02.794451Z",
     "start_time": "2023-01-26T17:42:02.768953Z"
    }
   },
   "outputs": [],
   "source": [
    "class LinkedList:\n",
    "    # initialization\n",
    "    def __init__(self):\n",
    "        self.head = None\n",
    "        self.tail = None\n",
    "\n",
    "    #display node data\n",
    "    def display(self, loc):\n",
    "        retval = 0\n",
    "        I = 0\n",
    "        nd = self.head\n",
    "        while nd != None:\n",
    "            # if the node exists\n",
    "            if I == loc:\n",
    "                print(f\"Node at loc {loc} data = {nd.data}\")\n",
    "                retval = 1\n",
    "                break\n",
    "            nd = nd.next\n",
    "            I = I + 1\n",
    "        return retval\n",
    "    \n",
    "    # update a node value\n",
    "    def update(self, loc, Data):\n",
    "        retval = 0\n",
    "        I = 0\n",
    "        nd = self.head\n",
    "        while nd != None:\n",
    "            # if the node exists\n",
    "            if I == loc:\n",
    "                nd.data = Data\n",
    "                retval = 1\n",
    "                break\n",
    "            nd = nd.next\n",
    "            I = I + 1\n",
    "        if retval == 1:\n",
    "            print(f\"Node at loc {loc} updated\")\n",
    "        else:\n",
    "            print(f\"failed to update, loc {loc} doesn't exist\")\n",
    "        return retval\n",
    "\n",
    "    # print all nodes in the list\n",
    "    def printall(self):\n",
    "        print('-' * 20)\n",
    "        I = 0\n",
    "        cur = self.head\n",
    "        while cur != None:\n",
    "            print(f\"Node at loc {I} = {cur.data}\")\n",
    "            cur = cur.next\n",
    "            I = I + 1\n",
    "        if I == 0:\n",
    "            print(\"The list is empty\")\n",
    "\n",
    "    #Add node at the end of the linked list\n",
    "    def add(self, Data):\n",
    "        nd = node(Data)\n",
    "        # if list is empty\n",
    "        if self.head == None:\n",
    "            self.head = nd\n",
    "            self.tail = nd\n",
    "        # if list is not empty\n",
    "        else:\n",
    "            self.tail.next = nd\n",
    "            nd.prev = self.tail\n",
    "            self.tail = nd\n",
    "\n",
    "    # insert a node at specific location\n",
    "    def insert(self, Data, loc):\n",
    "        nd = node(Data)\n",
    "        # if list is empty\n",
    "        if self.head == None:\n",
    "            self.head = nd\n",
    "            self.tail = nd\n",
    "        # if list is not empty\n",
    "        else:\n",
    "            #if loc is the first item\n",
    "            if loc == 0:\n",
    "                nd.next = self.head\n",
    "                self.head.prev = nd\n",
    "                self.head = nd\n",
    "            else:\n",
    "                I = 0\n",
    "                cur = self.head\n",
    "                while (I < loc - 1) and (cur != None):\n",
    "                    cur = cur.next\n",
    "                    I = I + 1\n",
    "                    # if loc is at the end\n",
    "                if (cur == self.tail) or (cur == None):\n",
    "                    self.tail.next = nd\n",
    "                    nd.prev = self.tail\n",
    "                    self.tail = nd\n",
    "                # loc in the middle\n",
    "                else:\n",
    "                    cur.next.prev = nd\n",
    "                    nd.next = cur.next\n",
    "                    nd.prev = cur\n",
    "                    cur.next = nd\n",
    "\n",
    "    #search for a node by data\n",
    "    def search(self, Data):\n",
    "        nd = None\n",
    "        # if list is not empty\n",
    "        if self.head != None:\n",
    "            nd = self.head\n",
    "            while (nd != None) and (nd.data != Data):\n",
    "                nd = nd.next\n",
    "        return nd\n",
    "\n",
    "    #delete a node at specific location\n",
    "    def delete(self, loc):\n",
    "        retval = 0\n",
    "        nd = None\n",
    "        # if list is not empty\n",
    "        if self.head != None:\n",
    "            nd = self.head\n",
    "            # if loc is the first element\n",
    "            if loc == 0:\n",
    "                # if only one node\n",
    "                if self.head == self.tail:\n",
    "                    self.head = None\n",
    "                    self.tail = None\n",
    "                else:\n",
    "                    self.head = self.head.next\n",
    "                    self.head.prev = None\n",
    "                retval = 1\n",
    "            # if loc is the middle or last element\n",
    "            else:\n",
    "                I = 0\n",
    "                while (I < loc) and (nd != None):\n",
    "                    nd = nd.next\n",
    "                    I = I + 1\n",
    "                # if the node exists\n",
    "                if nd != None:\n",
    "                    # last\n",
    "                    if self.tail == nd:\n",
    "                        self.tail = self.tail.prev\n",
    "                        self.tail.next = None\n",
    "                    # middle\n",
    "                    else:\n",
    "                        nd.prev.next = nd.next\n",
    "                        nd.next.prev = nd.prev\n",
    "                    retval = 1\n",
    "        if retval == 1:\n",
    "            print(\"Successfully deleted\")\n",
    "        else:\n",
    "            if self.head == None:\n",
    "                print(\"Failed to delete, empty list\")\n",
    "            else:\n",
    "                print(\"Failed to delete, loc doesn't exist\")\n",
    "        return retval\n",
    "    \n",
    "    # delete all the nodes in the list\n",
    "    def deleteall(self):\n",
    "        self.head = None\n",
    "        self.tail = None"
   ]
  },
  {
   "cell_type": "markdown",
   "id": "3cde0e5f",
   "metadata": {
    "ExecuteTime": {
     "end_time": "2023-01-26T17:42:48.339448Z",
     "start_time": "2023-01-26T17:42:48.322493Z"
    }
   },
   "source": [
    "## testing the code"
   ]
  },
  {
   "cell_type": "code",
   "execution_count": 11,
   "id": "38999f89",
   "metadata": {
    "ExecuteTime": {
     "end_time": "2023-01-26T17:42:03.975874Z",
     "start_time": "2023-01-26T17:42:03.944488Z"
    }
   },
   "outputs": [
    {
     "name": "stdout",
     "output_type": "stream",
     "text": [
      "--------------------\n",
      "The list is empty\n"
     ]
    }
   ],
   "source": [
    "mylist = LinkedList()\n",
    "mylist.printall()"
   ]
  },
  {
   "cell_type": "code",
   "execution_count": 12,
   "id": "a19a1358",
   "metadata": {
    "ExecuteTime": {
     "end_time": "2023-01-26T17:42:04.264252Z",
     "start_time": "2023-01-26T17:42:04.252278Z"
    }
   },
   "outputs": [
    {
     "name": "stdout",
     "output_type": "stream",
     "text": [
      "--------------------\n",
      "Node at loc 0 = 5\n"
     ]
    }
   ],
   "source": [
    "mylist.add(5)\n",
    "mylist.printall()"
   ]
  },
  {
   "cell_type": "code",
   "execution_count": 13,
   "id": "9e3a66cf",
   "metadata": {
    "ExecuteTime": {
     "end_time": "2023-01-26T17:42:04.806614Z",
     "start_time": "2023-01-26T17:42:04.794642Z"
    }
   },
   "outputs": [
    {
     "name": "stdout",
     "output_type": "stream",
     "text": [
      "--------------------\n",
      "Node at loc 0 = 5\n",
      "Node at loc 1 = [1, 2]\n"
     ]
    }
   ],
   "source": [
    "mylist.add([1, 2])\n",
    "mylist.printall()"
   ]
  },
  {
   "cell_type": "code",
   "execution_count": 14,
   "id": "b39417e4",
   "metadata": {
    "ExecuteTime": {
     "end_time": "2023-01-26T17:42:05.389843Z",
     "start_time": "2023-01-26T17:42:05.381856Z"
    }
   },
   "outputs": [
    {
     "name": "stdout",
     "output_type": "stream",
     "text": [
      "--------------------\n",
      "Node at loc 0 = 5\n",
      "Node at loc 1 = [1, 2]\n",
      "Node at loc 2 = osama\n"
     ]
    }
   ],
   "source": [
    "mylist.add(\"osama\")\n",
    "mylist.printall()"
   ]
  },
  {
   "cell_type": "code",
   "execution_count": 15,
   "id": "164186c1",
   "metadata": {
    "ExecuteTime": {
     "end_time": "2023-01-26T17:42:05.826381Z",
     "start_time": "2023-01-26T17:42:05.810761Z"
    }
   },
   "outputs": [
    {
     "name": "stdout",
     "output_type": "stream",
     "text": [
      "Node at loc 2 data = osama\n"
     ]
    },
    {
     "data": {
      "text/plain": [
       "1"
      ]
     },
     "execution_count": 15,
     "metadata": {},
     "output_type": "execute_result"
    }
   ],
   "source": [
    "mylist.display(2)"
   ]
  },
  {
   "cell_type": "code",
   "execution_count": 16,
   "id": "194376e2",
   "metadata": {
    "ExecuteTime": {
     "end_time": "2023-01-26T17:42:06.214034Z",
     "start_time": "2023-01-26T17:42:06.199156Z"
    }
   },
   "outputs": [
    {
     "name": "stdout",
     "output_type": "stream",
     "text": [
      "--------------------\n",
      "Node at loc 0 = ahmed\n",
      "Node at loc 1 = 5\n",
      "Node at loc 2 = [1, 2]\n",
      "Node at loc 3 = osama\n"
     ]
    }
   ],
   "source": [
    "mylist.insert(\"ahmed\", 0)\n",
    "mylist.printall()"
   ]
  },
  {
   "cell_type": "code",
   "execution_count": 17,
   "id": "469dec54",
   "metadata": {
    "ExecuteTime": {
     "end_time": "2023-01-26T17:42:06.593703Z",
     "start_time": "2023-01-26T17:42:06.561042Z"
    }
   },
   "outputs": [
    {
     "name": "stdout",
     "output_type": "stream",
     "text": [
      "Node at loc 1 updated\n",
      "--------------------\n",
      "Node at loc 0 = ahmed\n",
      "Node at loc 1 = hi\n",
      "Node at loc 2 = [1, 2]\n",
      "Node at loc 3 = osama\n"
     ]
    }
   ],
   "source": [
    "mylist.update(1, \"hi\")\n",
    "mylist.printall()"
   ]
  },
  {
   "cell_type": "code",
   "execution_count": 18,
   "id": "9c0d2168",
   "metadata": {
    "ExecuteTime": {
     "end_time": "2023-01-26T17:42:06.924786Z",
     "start_time": "2023-01-26T17:42:06.912793Z"
    }
   },
   "outputs": [
    {
     "name": "stdout",
     "output_type": "stream",
     "text": [
      "failed to update, loc 6 doesn't exist\n",
      "--------------------\n",
      "Node at loc 0 = ahmed\n",
      "Node at loc 1 = hi\n",
      "Node at loc 2 = [1, 2]\n",
      "Node at loc 3 = osama\n"
     ]
    }
   ],
   "source": [
    "mylist.update(6, \"no\")\n",
    "mylist.printall()"
   ]
  },
  {
   "cell_type": "code",
   "execution_count": 19,
   "id": "85e831d1",
   "metadata": {
    "ExecuteTime": {
     "end_time": "2023-01-26T17:42:07.242700Z",
     "start_time": "2023-01-26T17:42:07.227077Z"
    }
   },
   "outputs": [
    {
     "name": "stdout",
     "output_type": "stream",
     "text": [
      "--------------------\n",
      "Node at loc 0 = ahmed\n",
      "Node at loc 1 = hi\n",
      "Node at loc 2 = [1, 2]\n",
      "Node at loc 3 = 7\n",
      "Node at loc 4 = osama\n"
     ]
    }
   ],
   "source": [
    "mylist.insert(7, 3)\n",
    "mylist.printall()"
   ]
  },
  {
   "cell_type": "code",
   "execution_count": 20,
   "id": "9d133d6a",
   "metadata": {
    "ExecuteTime": {
     "end_time": "2023-01-26T17:42:07.609437Z",
     "start_time": "2023-01-26T17:42:07.593741Z"
    }
   },
   "outputs": [
    {
     "name": "stdout",
     "output_type": "stream",
     "text": [
      "--------------------\n",
      "Node at loc 0 = ahmed\n",
      "Node at loc 1 = hi\n",
      "Node at loc 2 = [1, 2]\n",
      "Node at loc 3 = 7\n",
      "Node at loc 4 = osama\n",
      "Node at loc 5 = 8\n"
     ]
    }
   ],
   "source": [
    "mylist.insert(8, 5)\n",
    "mylist.printall()"
   ]
  },
  {
   "cell_type": "code",
   "execution_count": 21,
   "id": "782d06d4",
   "metadata": {
    "ExecuteTime": {
     "end_time": "2023-01-26T17:42:07.926013Z",
     "start_time": "2023-01-26T17:42:07.893699Z"
    }
   },
   "outputs": [
    {
     "name": "stdout",
     "output_type": "stream",
     "text": [
      "--------------------\n",
      "Node at loc 0 = ahmed\n",
      "Node at loc 1 = hi\n",
      "Node at loc 2 = [1, 2]\n",
      "Node at loc 3 = 7\n",
      "Node at loc 4 = osama\n",
      "Node at loc 5 = 8\n",
      "Node at loc 6 = Xyz\n"
     ]
    }
   ],
   "source": [
    "mylist.insert(\"Xyz\", 10)\n",
    "mylist.printall()"
   ]
  },
  {
   "cell_type": "code",
   "execution_count": 22,
   "id": "1528e931",
   "metadata": {
    "ExecuteTime": {
     "end_time": "2023-01-26T17:42:08.275892Z",
     "start_time": "2023-01-26T17:42:08.243872Z"
    }
   },
   "outputs": [
    {
     "name": "stdout",
     "output_type": "stream",
     "text": [
      "None\n"
     ]
    }
   ],
   "source": [
    "output = mylist.search(11)\n",
    "print(output)"
   ]
  },
  {
   "cell_type": "code",
   "execution_count": 23,
   "id": "e8ce06eb",
   "metadata": {
    "ExecuteTime": {
     "end_time": "2023-01-26T17:42:08.575671Z",
     "start_time": "2023-01-26T17:42:08.560232Z"
    }
   },
   "outputs": [
    {
     "name": "stdout",
     "output_type": "stream",
     "text": [
      "Node = Xyz\n"
     ]
    }
   ],
   "source": [
    "output = mylist.search(\"Xyz\")\n",
    "print(output)"
   ]
  },
  {
   "cell_type": "code",
   "execution_count": 26,
   "id": "86e5a21c",
   "metadata": {
    "ExecuteTime": {
     "end_time": "2023-01-26T17:42:25.684513Z",
     "start_time": "2023-01-26T17:42:25.665564Z"
    }
   },
   "outputs": [
    {
     "name": "stdout",
     "output_type": "stream",
     "text": [
      "--------------------\n",
      "Node at loc 0 = ahmed\n",
      "Node at loc 1 = hi\n",
      "Node at loc 2 = [1, 2]\n",
      "Node at loc 3 = 7\n",
      "Node at loc 4 = osama\n",
      "Node at loc 5 = 8\n",
      "Node at loc 6 = Xyz\n"
     ]
    }
   ],
   "source": [
    "mylist.printall()"
   ]
  },
  {
   "cell_type": "code",
   "execution_count": 27,
   "id": "370a6451",
   "metadata": {
    "ExecuteTime": {
     "end_time": "2023-01-26T17:42:26.661758Z",
     "start_time": "2023-01-26T17:42:26.649792Z"
    }
   },
   "outputs": [
    {
     "name": "stdout",
     "output_type": "stream",
     "text": [
      "Successfully deleted\n",
      "--------------------\n",
      "Node at loc 0 = ahmed\n",
      "Node at loc 1 = hi\n",
      "Node at loc 2 = [1, 2]\n",
      "Node at loc 3 = 7\n",
      "Node at loc 4 = osama\n",
      "Node at loc 5 = Xyz\n"
     ]
    }
   ],
   "source": [
    "mylist.delete(5)\n",
    "mylist.printall()"
   ]
  },
  {
   "cell_type": "code",
   "execution_count": 28,
   "id": "01a3c937",
   "metadata": {
    "ExecuteTime": {
     "end_time": "2023-01-26T17:42:27.589013Z",
     "start_time": "2023-01-26T17:42:27.571091Z"
    }
   },
   "outputs": [
    {
     "name": "stdout",
     "output_type": "stream",
     "text": [
      "Failed to delete, loc doesn't exist\n",
      "--------------------\n",
      "Node at loc 0 = ahmed\n",
      "Node at loc 1 = hi\n",
      "Node at loc 2 = [1, 2]\n",
      "Node at loc 3 = 7\n",
      "Node at loc 4 = osama\n",
      "Node at loc 5 = Xyz\n"
     ]
    }
   ],
   "source": [
    "mylist.delete(7)\n",
    "mylist.printall()"
   ]
  },
  {
   "cell_type": "code",
   "execution_count": 29,
   "id": "49623519",
   "metadata": {
    "ExecuteTime": {
     "end_time": "2023-01-26T17:42:29.761369Z",
     "start_time": "2023-01-26T17:42:29.755389Z"
    }
   },
   "outputs": [
    {
     "name": "stdout",
     "output_type": "stream",
     "text": [
      "Successfully deleted\n",
      "--------------------\n",
      "Node at loc 0 = hi\n",
      "Node at loc 1 = [1, 2]\n",
      "Node at loc 2 = 7\n",
      "Node at loc 3 = osama\n",
      "Node at loc 4 = Xyz\n"
     ]
    }
   ],
   "source": [
    "mylist.delete(0)\n",
    "mylist.printall()"
   ]
  },
  {
   "cell_type": "code",
   "execution_count": 30,
   "id": "a76a70a1",
   "metadata": {
    "ExecuteTime": {
     "end_time": "2023-01-26T17:42:30.997676Z",
     "start_time": "2023-01-26T17:42:30.980723Z"
    }
   },
   "outputs": [
    {
     "name": "stdout",
     "output_type": "stream",
     "text": [
      "--------------------\n",
      "The list is empty\n"
     ]
    }
   ],
   "source": [
    "mylist.deleteall()\n",
    "mylist.printall()"
   ]
  }
 ],
 "metadata": {
  "kernelspec": {
   "display_name": "Python 3 (ipykernel)",
   "language": "python",
   "name": "python3"
  },
  "language_info": {
   "codemirror_mode": {
    "name": "ipython",
    "version": 3
   },
   "file_extension": ".py",
   "mimetype": "text/x-python",
   "name": "python",
   "nbconvert_exporter": "python",
   "pygments_lexer": "ipython3",
   "version": "3.9.13"
  }
 },
 "nbformat": 4,
 "nbformat_minor": 5
}
