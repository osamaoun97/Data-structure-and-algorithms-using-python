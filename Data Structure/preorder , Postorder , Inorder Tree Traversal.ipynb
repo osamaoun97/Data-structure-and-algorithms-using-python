{
 "cells": [
  {
   "cell_type": "markdown",
   "id": "4eb0ef8a",
   "metadata": {
    "ExecuteTime": {
     "end_time": "2023-01-26T17:48:12.918179Z",
     "start_time": "2023-01-26T17:48:12.911199Z"
    }
   },
   "source": [
    "## Creating the class"
   ]
  },
  {
   "cell_type": "code",
   "execution_count": 51,
   "id": "24118b60",
   "metadata": {
    "ExecuteTime": {
     "end_time": "2023-01-26T17:58:51.080990Z",
     "start_time": "2023-01-26T17:58:51.067405Z"
    }
   },
   "outputs": [],
   "source": [
    "class Node:\n",
    "    # initialize node with dada, lef and right node\n",
    "    def __init__(self, Data):\n",
    "        self.data = Data\n",
    "        self.left = None\n",
    "        self.right = None\n",
    "    \n",
    "    # overriding __Repr__ method to print Node Data\n",
    "    def __repr__(self):\n",
    "        return str(self.data)\n",
    "    \n",
    "    # insering a node to the tree (Binary tree)\n",
    "    def insertNode(self, Data):\n",
    "            if self.data >= Data:\n",
    "                if self.left:\n",
    "                    self.left.insertNode(Data)\n",
    "                else:\n",
    "                    self.left = Node(Data)\n",
    "                    return\n",
    "            else:\n",
    "                if self.right:\n",
    "                    self.right.insertNode(Data)\n",
    "                else:\n",
    "                    self.right = Node(Data)\n",
    "                    return\n",
    "                \n",
    "# preorder traversing function\n",
    "def preorder_traverse(root):\n",
    "        if root != None:\n",
    "            print(f\" =>{root}\",end = '')\n",
    "            preorder_traverse(root.left)\n",
    "            preorder_traverse(root.right)\n",
    "            \n",
    "# ineorder traversing function\n",
    "def inorder_traverse(root):\n",
    "        if root != None:\n",
    "            inorder_traverse(root.left)\n",
    "            print(f\" =>{root}\",end = '')\n",
    "            inorder_traverse(root.right)\n",
    "            \n",
    "# posteorder traversing function\n",
    "def postorder_traverse(root):\n",
    "        if root != None:\n",
    "            postorder_traverse(root.left)\n",
    "            postorder_traverse(root.right)\n",
    "            print(f\" =>{root}\",end = '')"
   ]
  },
  {
   "cell_type": "markdown",
   "id": "f8fb6456",
   "metadata": {
    "ExecuteTime": {
     "end_time": "2023-01-26T17:58:51.325487Z",
     "start_time": "2023-01-26T17:58:51.310166Z"
    }
   },
   "source": [
    "## Testing the code"
   ]
  },
  {
   "cell_type": "code",
   "execution_count": 57,
   "id": "bb7bff04",
   "metadata": {
    "ExecuteTime": {
     "end_time": "2023-01-26T18:05:48.114215Z",
     "start_time": "2023-01-26T18:05:48.101253Z"
    }
   },
   "outputs": [],
   "source": [
    "# creating a tree\n",
    "t = Node(7)\n",
    "t.insertNode(5)\n",
    "t.insertNode(9)\n",
    "t.insertNode(2)\n",
    "t.insertNode(8)\n",
    "t.insertNode(11)\n",
    "t.insertNode(1)\n",
    "t.insertNode(4)"
   ]
  },
  {
   "cell_type": "code",
   "execution_count": 58,
   "id": "1313bb61",
   "metadata": {
    "ExecuteTime": {
     "end_time": "2023-01-26T18:05:48.905922Z",
     "start_time": "2023-01-26T18:05:48.898944Z"
    }
   },
   "outputs": [],
   "source": [
    "## My tree is\n",
    "##             7\n",
    "##         5       9\n",
    "##      2       8     11\n",
    "##   1    4"
   ]
  },
  {
   "cell_type": "code",
   "execution_count": 59,
   "id": "26ca9796",
   "metadata": {
    "ExecuteTime": {
     "end_time": "2023-01-26T18:05:50.068687Z",
     "start_time": "2023-01-26T18:05:50.064700Z"
    }
   },
   "outputs": [
    {
     "name": "stdout",
     "output_type": "stream",
     "text": [
      " =>7 =>5 =>2 =>1 =>4 =>9 =>8 =>11"
     ]
    }
   ],
   "source": [
    "preorder_traverse(t)"
   ]
  },
  {
   "cell_type": "code",
   "execution_count": 60,
   "id": "ae0d5fec",
   "metadata": {
    "ExecuteTime": {
     "end_time": "2023-01-26T18:05:55.964250Z",
     "start_time": "2023-01-26T18:05:55.952809Z"
    }
   },
   "outputs": [
    {
     "name": "stdout",
     "output_type": "stream",
     "text": [
      " =>1 =>2 =>4 =>5 =>7 =>8 =>9 =>11"
     ]
    }
   ],
   "source": [
    "inorder_traverse(t)"
   ]
  },
  {
   "cell_type": "code",
   "execution_count": 61,
   "id": "89ee574e",
   "metadata": {
    "ExecuteTime": {
     "end_time": "2023-01-26T18:05:56.948014Z",
     "start_time": "2023-01-26T18:05:56.937048Z"
    }
   },
   "outputs": [
    {
     "name": "stdout",
     "output_type": "stream",
     "text": [
      " =>1 =>4 =>2 =>5 =>8 =>11 =>9 =>7"
     ]
    }
   ],
   "source": [
    "postorder_traverse(t)"
   ]
  }
 ],
 "metadata": {
  "kernelspec": {
   "display_name": "Python 3 (ipykernel)",
   "language": "python",
   "name": "python3"
  },
  "language_info": {
   "codemirror_mode": {
    "name": "ipython",
    "version": 3
   },
   "file_extension": ".py",
   "mimetype": "text/x-python",
   "name": "python",
   "nbconvert_exporter": "python",
   "pygments_lexer": "ipython3",
   "version": "3.9.13"
  }
 },
 "nbformat": 4,
 "nbformat_minor": 5
}
