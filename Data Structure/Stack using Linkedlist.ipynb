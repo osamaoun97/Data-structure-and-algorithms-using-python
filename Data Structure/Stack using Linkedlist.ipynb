{
 "cells": [
  {
   "cell_type": "markdown",
   "id": "87016207",
   "metadata": {
    "ExecuteTime": {
     "end_time": "2023-01-26T18:35:13.545144Z",
     "start_time": "2023-01-26T18:35:13.534175Z"
    }
   },
   "source": [
    "## Class to create and print nodes"
   ]
  },
  {
   "cell_type": "code",
   "execution_count": 15,
   "id": "6e63ab05",
   "metadata": {
    "ExecuteTime": {
     "end_time": "2023-01-26T17:45:06.421283Z",
     "start_time": "2023-01-26T17:45:06.405658Z"
    },
    "code_folding": [
     1
    ]
   },
   "outputs": [],
   "source": [
    "class node:\n",
    "    def __init__(self, Data):\n",
    "        self.data = Data\n",
    "        self.next = None\n",
    "        \n",
    "    def print(self):\n",
    "        print(f\"Node = {self.data}\")"
   ]
  },
  {
   "cell_type": "markdown",
   "id": "33ab194e",
   "metadata": {
    "ExecuteTime": {
     "end_time": "2023-01-26T17:45:07.734046Z",
     "start_time": "2023-01-26T17:45:07.719103Z"
    }
   },
   "source": [
    "# Stack class"
   ]
  },
  {
   "cell_type": "code",
   "execution_count": 17,
   "id": "d29d18ff",
   "metadata": {
    "ExecuteTime": {
     "end_time": "2023-01-26T17:45:08.121001Z",
     "start_time": "2023-01-26T17:45:08.105416Z"
    }
   },
   "outputs": [],
   "source": [
    "class Stack:\n",
    "    def __init__(self):\n",
    "        self.head = None\n",
    "        \n",
    "    # print all nodes in the Stack\n",
    "    def printall(self):\n",
    "        print(\"-\"*20)\n",
    "        I = 0\n",
    "        cur = self.head\n",
    "        if self.head != None:\n",
    "            print(\"Nodes from highest to lowest piriority\")\n",
    "            while cur != None:\n",
    "                print(f\"Node at loc {I} = {cur.data}\")\n",
    "                cur = cur.next\n",
    "                I = I + 1\n",
    "        else:\n",
    "            print(\"The Stack is empty\") \n",
    "            \n",
    "    # add element\n",
    "    def push(self, Data):\n",
    "        nd = node(Data)\n",
    "        if self.head == None:\n",
    "            self.head = nd\n",
    "        else:\n",
    "            nd.next = self.head\n",
    "            self.head = nd\n",
    "    \n",
    "    # Pop an element\n",
    "    def pop(self):\n",
    "        nd = None\n",
    "        if self.head != None:\n",
    "            nd = self.head\n",
    "            self.head = self.head.next\n",
    "        if nd == None:\n",
    "            print(\"Can't pop from an empty stack\")\n",
    "        else:\n",
    "            print(f\"Poped item = {nd.data}\")\n",
    "        return nd"
   ]
  },
  {
   "cell_type": "markdown",
   "id": "4ce882cc",
   "metadata": {
    "ExecuteTime": {
     "end_time": "2023-01-26T17:45:09.269472Z",
     "start_time": "2023-01-26T17:45:09.260496Z"
    }
   },
   "source": [
    "## testing the code"
   ]
  },
  {
   "cell_type": "code",
   "execution_count": 19,
   "id": "4250a501",
   "metadata": {
    "ExecuteTime": {
     "end_time": "2023-01-26T17:45:10.542619Z",
     "start_time": "2023-01-26T17:45:10.536636Z"
    }
   },
   "outputs": [
    {
     "name": "stdout",
     "output_type": "stream",
     "text": [
      "--------------------\n",
      "The Stack is empty\n"
     ]
    }
   ],
   "source": [
    "mystack = Stack()\n",
    "mystack.printall()"
   ]
  },
  {
   "cell_type": "code",
   "execution_count": 20,
   "id": "2e4657c0",
   "metadata": {
    "ExecuteTime": {
     "end_time": "2023-01-26T17:45:12.887327Z",
     "start_time": "2023-01-26T17:45:12.883306Z"
    }
   },
   "outputs": [
    {
     "name": "stdout",
     "output_type": "stream",
     "text": [
      "Can't pop from an empty stack\n"
     ]
    }
   ],
   "source": [
    "mystack.pop()"
   ]
  },
  {
   "cell_type": "code",
   "execution_count": 21,
   "id": "e1d5fca1",
   "metadata": {
    "ExecuteTime": {
     "end_time": "2023-01-26T17:45:13.779606Z",
     "start_time": "2023-01-26T17:45:13.766097Z"
    }
   },
   "outputs": [],
   "source": [
    "mystack.push(3)"
   ]
  },
  {
   "cell_type": "code",
   "execution_count": 22,
   "id": "baa8769e",
   "metadata": {
    "ExecuteTime": {
     "end_time": "2023-01-26T17:45:14.746684Z",
     "start_time": "2023-01-26T17:45:14.733691Z"
    }
   },
   "outputs": [],
   "source": [
    "mystack.push(6)"
   ]
  },
  {
   "cell_type": "code",
   "execution_count": 23,
   "id": "b13f2ea5",
   "metadata": {
    "ExecuteTime": {
     "end_time": "2023-01-26T17:45:15.117846Z",
     "start_time": "2023-01-26T17:45:15.100025Z"
    }
   },
   "outputs": [],
   "source": [
    "mystack.push(9)"
   ]
  },
  {
   "cell_type": "code",
   "execution_count": 24,
   "id": "2ce6b051",
   "metadata": {
    "ExecuteTime": {
     "end_time": "2023-01-26T17:45:15.484440Z",
     "start_time": "2023-01-26T17:45:15.468722Z"
    }
   },
   "outputs": [
    {
     "name": "stdout",
     "output_type": "stream",
     "text": [
      "--------------------\n",
      "Nodes from highest to lowest piriority\n",
      "Node at loc 0 = 9\n",
      "Node at loc 1 = 6\n",
      "Node at loc 2 = 3\n"
     ]
    }
   ],
   "source": [
    "mystack.printall()"
   ]
  },
  {
   "cell_type": "code",
   "execution_count": 25,
   "id": "8cd43f1a",
   "metadata": {
    "ExecuteTime": {
     "end_time": "2023-01-26T17:45:17.388738Z",
     "start_time": "2023-01-26T17:45:17.374750Z"
    }
   },
   "outputs": [
    {
     "name": "stdout",
     "output_type": "stream",
     "text": [
      "Poped item = 9\n",
      "--------------------\n",
      "Nodes from highest to lowest piriority\n",
      "Node at loc 0 = 6\n",
      "Node at loc 1 = 3\n"
     ]
    }
   ],
   "source": [
    "mystack.pop()\n",
    "mystack.printall()"
   ]
  },
  {
   "cell_type": "code",
   "execution_count": 26,
   "id": "d529d09c",
   "metadata": {
    "ExecuteTime": {
     "end_time": "2023-01-26T17:45:18.547994Z",
     "start_time": "2023-01-26T17:45:18.541018Z"
    }
   },
   "outputs": [
    {
     "name": "stdout",
     "output_type": "stream",
     "text": [
      "Poped item = 6\n",
      "--------------------\n",
      "Nodes from highest to lowest piriority\n",
      "Node at loc 0 = 3\n"
     ]
    }
   ],
   "source": [
    "mystack.pop()\n",
    "mystack.printall()"
   ]
  },
  {
   "cell_type": "code",
   "execution_count": 27,
   "id": "5ec63e52",
   "metadata": {
    "ExecuteTime": {
     "end_time": "2023-01-26T17:45:19.477298Z",
     "start_time": "2023-01-26T17:45:19.465363Z"
    }
   },
   "outputs": [
    {
     "name": "stdout",
     "output_type": "stream",
     "text": [
      "Poped item = 3\n",
      "--------------------\n",
      "The Stack is empty\n"
     ]
    }
   ],
   "source": [
    "mystack.pop()\n",
    "mystack.printall()"
   ]
  },
  {
   "cell_type": "code",
   "execution_count": 28,
   "id": "d9b3534d",
   "metadata": {
    "ExecuteTime": {
     "end_time": "2023-01-26T17:45:20.031184Z",
     "start_time": "2023-01-26T17:45:20.016195Z"
    }
   },
   "outputs": [
    {
     "name": "stdout",
     "output_type": "stream",
     "text": [
      "Can't pop from an empty stack\n",
      "--------------------\n",
      "The Stack is empty\n"
     ]
    }
   ],
   "source": [
    "mystack.pop()\n",
    "mystack.printall()"
   ]
  }
 ],
 "metadata": {
  "kernelspec": {
   "display_name": "Python 3 (ipykernel)",
   "language": "python",
   "name": "python3"
  },
  "language_info": {
   "codemirror_mode": {
    "name": "ipython",
    "version": 3
   },
   "file_extension": ".py",
   "mimetype": "text/x-python",
   "name": "python",
   "nbconvert_exporter": "python",
   "pygments_lexer": "ipython3",
   "version": "3.9.13"
  }
 },
 "nbformat": 4,
 "nbformat_minor": 5
}
